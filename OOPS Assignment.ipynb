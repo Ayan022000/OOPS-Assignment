{
 "cells": [
  {
   "cell_type": "markdown",
   "id": "6964753d",
   "metadata": {},
   "source": [
    "# Q 1."
   ]
  },
  {
   "cell_type": "markdown",
   "id": "58435542",
   "metadata": {},
   "source": [
    "## Explain Class and Object with respect to Object-Oriented Programming. Give a suitable example."
   ]
  },
  {
   "cell_type": "markdown",
   "id": "ddc6fc38",
   "metadata": {},
   "source": [
    "In Python, as well as in other object-oriented programming (OOP) languages, a class is a blueprint or a template for creating objects. It defines a set of attributes and methods that an object of that class will have. An object, on the other hand, is an instance of a class. It is a concrete realization of the class blueprint, with its own set of values for the attributes defined in the class."
   ]
  },
  {
   "cell_type": "code",
   "execution_count": 1,
   "id": "462919fe",
   "metadata": {},
   "outputs": [],
   "source": [
    "class office:\n",
    "    def __init__(self, employee_id,employee_email,employee_ph_no):\n",
    "        self.emp_id= employee_id\n",
    "        self.emp_email= employee_email\n",
    "        self.emp_pn=employee_ph_no\n",
    "    \n",
    "    def return_all_vars(self):\n",
    "        return self.emp_id,self.emp_email,self.emp_pn"
   ]
  },
  {
   "cell_type": "code",
   "execution_count": 2,
   "id": "478dfdd5",
   "metadata": {},
   "outputs": [],
   "source": [
    "john= office(101,\"john2@gmail.com\",908976546)"
   ]
  },
  {
   "cell_type": "code",
   "execution_count": 3,
   "id": "0284320f",
   "metadata": {},
   "outputs": [
    {
     "data": {
      "text/plain": [
       "'john2@gmail.com'"
      ]
     },
     "execution_count": 3,
     "metadata": {},
     "output_type": "execute_result"
    }
   ],
   "source": [
    "john.emp_email"
   ]
  },
  {
   "cell_type": "code",
   "execution_count": 4,
   "id": "79a7a2b0",
   "metadata": {},
   "outputs": [
    {
     "data": {
      "text/plain": [
       "101"
      ]
     },
     "execution_count": 4,
     "metadata": {},
     "output_type": "execute_result"
    }
   ],
   "source": [
    "john.emp_id"
   ]
  },
  {
   "cell_type": "code",
   "execution_count": 5,
   "id": "c3b5911f",
   "metadata": {},
   "outputs": [
    {
     "data": {
      "text/plain": [
       "908976546"
      ]
     },
     "execution_count": 5,
     "metadata": {},
     "output_type": "execute_result"
    }
   ],
   "source": [
    "john.emp_pn"
   ]
  },
  {
   "cell_type": "code",
   "execution_count": 6,
   "id": "1ac04e7a",
   "metadata": {},
   "outputs": [
    {
     "data": {
      "text/plain": [
       "(101, 'john2@gmail.com', 908976546)"
      ]
     },
     "execution_count": 6,
     "metadata": {},
     "output_type": "execute_result"
    }
   ],
   "source": [
    "john.return_all_vars()"
   ]
  },
  {
   "cell_type": "markdown",
   "id": "265343fe",
   "metadata": {},
   "source": [
    "# Q 2."
   ]
  },
  {
   "cell_type": "markdown",
   "id": "4abfe520",
   "metadata": {},
   "source": [
    "# Name the four pillars of OOPs."
   ]
  },
  {
   "cell_type": "markdown",
   "id": "9e23e15c",
   "metadata": {},
   "source": [
    "The four pillars of Object-Oriented Programming (OOP) are:\n",
    "\n",
    "1.Encapsulation: This refers to the practice of hiding the internal implementation details of an object from the outside world and providing a public interface for interacting with the object.\n",
    "\n",
    "2.Inheritance: This refers to the ability of one class (called the subclass or derived class) to inherit properties and behavior from another class (called the superclass or base class).\n",
    "\n",
    "3.Polymorphism: This refers to the ability of an object to take on many forms or have many behaviors. Polymorphism allows different objects to be treated as if they are of the same type.\n",
    "\n",
    "4.Abstraction: This refers to the practice of representing complex real-world entities as simplified models in software. Abstraction allows developers to focus on the essential features of an object while ignoring its irrelevant details."
   ]
  },
  {
   "cell_type": "markdown",
   "id": "0bf34cb1",
   "metadata": {},
   "source": [
    "# Q 3."
   ]
  },
  {
   "cell_type": "markdown",
   "id": "8a0462f8",
   "metadata": {},
   "source": [
    "## Explain why the __init__() function is used. Give a suitable example."
   ]
  },
  {
   "cell_type": "markdown",
   "id": "64f8d2cc",
   "metadata": {},
   "source": [
    "In Python, the __init__() function is a special method that is automatically called when an instance of a class is created. The main purpose of the __init__() function is to initialize the attributes (variables) of the object with default or user-defined values.\n",
    "\n",
    "Here is an example of how __init__() function can be used in a class:"
   ]
  },
  {
   "cell_type": "code",
   "execution_count": 7,
   "id": "7985c49c",
   "metadata": {},
   "outputs": [],
   "source": [
    "class Car:\n",
    "    def __init__(self, make, model, year):\n",
    "        self.make = make\n",
    "        self.model = model\n",
    "        self.year = year\n",
    "    def get_description(self):\n",
    "        return self.make,self.model,self.year"
   ]
  },
  {
   "cell_type": "code",
   "execution_count": 9,
   "id": "bc889d48",
   "metadata": {},
   "outputs": [],
   "source": [
    "new_car= Car(\"Hyundai\",\"HN0123\",2015)"
   ]
  },
  {
   "cell_type": "code",
   "execution_count": 10,
   "id": "94983334",
   "metadata": {},
   "outputs": [
    {
     "data": {
      "text/plain": [
       "('Hyundai', 'HN0123', 2015)"
      ]
     },
     "execution_count": 10,
     "metadata": {},
     "output_type": "execute_result"
    }
   ],
   "source": [
    "new_car.get_description()"
   ]
  },
  {
   "cell_type": "markdown",
   "id": "b0ff7339",
   "metadata": {},
   "source": [
    "# Q 4."
   ]
  },
  {
   "cell_type": "markdown",
   "id": "a7f93e46",
   "metadata": {},
   "source": [
    "## Why self is used in OOPs?"
   ]
  },
  {
   "cell_type": "markdown",
   "id": "29d9e164",
   "metadata": {},
   "source": [
    "In Object-Oriented Programming (OOP), self is a reference variable that refers to the instance of a class. It is a special parameter that is always the first parameter in any method defined inside a class.\n",
    "\n",
    "The primary reason why self is used in OOP is to access the attributes and methods of an instance of a class. When a method is called on an instance of a class, the instance itself is automatically passed as the first argument (i.e., self) to the method. This allows the method to access the attributes and methods of the instance."
   ]
  },
  {
   "cell_type": "markdown",
   "id": "ae696525",
   "metadata": {},
   "source": [
    "# Q 5."
   ]
  },
  {
   "cell_type": "markdown",
   "id": "70952c5a",
   "metadata": {},
   "source": [
    "## What is inheritance? Give an example for each type of inheritance."
   ]
  },
  {
   "cell_type": "markdown",
   "id": "16f1c3cc",
   "metadata": {},
   "source": [
    "Inheritance is a mechanism in Object-Oriented Programming (OOP) that allows a class (called the child or derived class) to inherit the properties and methods of another class (called the parent or base class). This enables the child class to reuse the code of the parent class and also add new attributes and behaviors as needed.\n",
    "\n",
    "There are four types of inheritance in Python:"
   ]
  },
  {
   "cell_type": "markdown",
   "id": "12992014",
   "metadata": {},
   "source": [
    "1.Single Inheritance: In single inheritance, a child class inherits from a single parent class.\n",
    "Example:"
   ]
  },
  {
   "cell_type": "code",
   "execution_count": 11,
   "id": "e19d1b7f",
   "metadata": {},
   "outputs": [
    {
     "name": "stdout",
     "output_type": "stream",
     "text": [
      "Woof\n",
      "Meow\n"
     ]
    }
   ],
   "source": [
    "class Animal:\n",
    "    def __init__(self, name):\n",
    "        self.name = name\n",
    "\n",
    "    def speak(self):\n",
    "        raise NotImplementedError(\"Subclass must implement abstract method\")\n",
    "\n",
    "class Dog(Animal):\n",
    "    def speak(self):\n",
    "        return \"Woof\"\n",
    "\n",
    "class Cat(Animal):\n",
    "    def speak(self):\n",
    "        return \"Meow\"\n",
    "\n",
    "dog = Dog(\"Fido\")\n",
    "cat = Cat(\"Whiskers\")\n",
    "\n",
    "print(dog.speak())\n",
    "print(cat.speak())"
   ]
  },
  {
   "cell_type": "markdown",
   "id": "bcbc46d8",
   "metadata": {},
   "source": [
    "2.Multiple Inheritance: In multiple inheritance, a child class inherits from two or more parent classes.\n",
    "Example:"
   ]
  },
  {
   "cell_type": "code",
   "execution_count": 12,
   "id": "5388e059",
   "metadata": {},
   "outputs": [
    {
     "name": "stdout",
     "output_type": "stream",
     "text": [
      "Method of A called\n"
     ]
    }
   ],
   "source": [
    "class A:\n",
    "    def method(self):\n",
    "        print(\"Method of A called\")\n",
    "\n",
    "class B:\n",
    "    def method(self):\n",
    "        print(\"Method of B called\")\n",
    "\n",
    "class C(A, B):\n",
    "    pass\n",
    "\n",
    "c = C()\n",
    "c.method() "
   ]
  },
  {
   "cell_type": "markdown",
   "id": "fd302fa0",
   "metadata": {},
   "source": [
    "3.Multi-level Inheritance: In multi-level inheritance, a child class inherits from a parent class, which itself inherits from another parent class.\n",
    "Example:"
   ]
  },
  {
   "cell_type": "code",
   "execution_count": 13,
   "id": "6273cb06",
   "metadata": {},
   "outputs": [
    {
     "name": "stdout",
     "output_type": "stream",
     "text": [
      "Whiskers\n",
      "Feeding baby with milk\n"
     ]
    }
   ],
   "source": [
    "class Animal:\n",
    "    def __init__(self, name):\n",
    "        self.name = name\n",
    "\n",
    "class Mammal(Animal):\n",
    "    def feed_baby_with_milk(self):\n",
    "        print(\"Feeding baby with milk\")\n",
    "\n",
    "class Cat(Mammal):\n",
    "    def __init__(self, name):\n",
    "        super().__init__(name)\n",
    "\n",
    "cat = Cat(\"Whiskers\")\n",
    "print(cat.name) \n",
    "cat.feed_baby_with_milk() "
   ]
  },
  {
   "cell_type": "markdown",
   "id": "492375ec",
   "metadata": {},
   "source": [
    "4.Hierarchical Inheritance: In hierarchical inheritance, multiple child classes inherit from a single parent class.\n",
    "Example:"
   ]
  },
  {
   "cell_type": "code",
   "execution_count": 14,
   "id": "fd336fa9",
   "metadata": {},
   "outputs": [
    {
     "name": "stdout",
     "output_type": "stream",
     "text": [
      "Drawing Circle\n",
      "Drawing Square\n"
     ]
    }
   ],
   "source": [
    "class Shape:\n",
    "    def draw(self):\n",
    "        raise NotImplementedError(\"Subclass must implement abstract method\")\n",
    "\n",
    "class Circle(Shape):\n",
    "    def draw(self):\n",
    "        return \"Drawing Circle\"\n",
    "\n",
    "class Square(Shape):\n",
    "    def draw(self):\n",
    "        return \"Drawing Square\"\n",
    "\n",
    "circle = Circle()\n",
    "square = Square()\n",
    "\n",
    "print(circle.draw())\n",
    "print(square.draw()) "
   ]
  }
 ],
 "metadata": {
  "kernelspec": {
   "display_name": "Python 3 (ipykernel)",
   "language": "python",
   "name": "python3"
  },
  "language_info": {
   "codemirror_mode": {
    "name": "ipython",
    "version": 3
   },
   "file_extension": ".py",
   "mimetype": "text/x-python",
   "name": "python",
   "nbconvert_exporter": "python",
   "pygments_lexer": "ipython3",
   "version": "3.9.13"
  }
 },
 "nbformat": 4,
 "nbformat_minor": 5
}
